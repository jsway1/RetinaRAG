{
 "cells": [
  {
   "cell_type": "code",
   "execution_count": 1,
   "metadata": {},
   "outputs": [],
   "source": [
    "import os \n",
    "import argparse\n",
    "import shutil\n",
    "from langchain.document_loaders.pdf import PyPDFDirectoryLoader\n",
    "from langchain_text_splitters import RecursiveCharacterTextSplitter\n",
    "from langchain.schema.document import Document\n",
    "from langchain.vectorstores.chroma import Chroma\n",
    "from langchain_community.embeddings.ollama import OllamaEmbeddings\n",
    "from langchain.prompts import ChatPromptTemplate\n",
    "from langchain_community.llms.llamafile import Llamafile"
   ]
  },
  {
   "cell_type": "code",
   "execution_count": 12,
   "metadata": {},
   "outputs": [],
   "source": [
    "chroma_path = \"/Users/jps93/Desktop/AIPI_561_Project/chroma\"\n",
    "data_path = \"/Users/jps93/Desktop/Retina\"\n",
    "#local_model_path = \"/Users/jps93/Desktop/llamafiles/TinyLlama-1.1B-Chat-v1.0.F16.llamafile\"\n",
    "\n",
    "\n",
    "PROMPT_TEMPLATE = \"\"\"\n",
    "Answer the question based only on the following context:\n",
    "\n",
    "You are an experienced vitreoretinal surgeon speaking with trainees. You can answer detailed questions about vitreoretinal surgery concisely and accurately. Keep response length short (within 100 works if possible)\n",
    "You interpret the following abbreviations automatically: \n",
    "\n",
    "AC - anterior chamber, ACIOL – anterior chamber intraocular lens, AFX - air-fluid exchange,\n",
    "AIDS - acquired immunodeficiency syndrome, AMD - age-related macular degeneration, AP - anterior-posterior, \n",
    "APD - afferent pupillary defect, BP - blood pressure, BRVO - branch retinal vein occlusion, \n",
    "BSS - balanced salt solution, cc - cubic centimeter, CME – cystoid macular edema, CMV - cytomegalovirus, \n",
    "CNV - choroidal neovascularization, cpm – cuts per minute, CSF- cerebrospinal fluid, \n",
    "CT - computed tomography, D5W - dextrose 5% in water, DD - disc diameter, DDX - differential diagnosis, \n",
    "EBV - Epstein-Barr virus, ERG – electroretinogram, ERM - epiretinal membrane, EUA - examination under anesthesia, \n",
    "FAX - fluid-air exchange, FB - foreign body, FDA – Food and Drug Administration,, FEVR - familial exudative vitreoretinopathy, \n",
    "FTMH – full-thickness macular hole, G – gauge, GA – geographic atrophy, GRT - giant retinal tear, \n",
    "HIV - human immunodeficiency virus, HOB - head of bed, HSV - Herpes simplex virus, HZV - Herpes zoster virus, \n",
    "ICG - indocyanine green, ILM - internal limiting membrane, IOFB - intraocular foreign body, \n",
    "IOL – intraocular lens, IOP – intraocular pressure, IRF- intraretinal fluid, IRH - intraretinal hemorrhage, \n",
    "IV - intravenous, LASIK - laser-assisted in situ keratomileusis, LP – light perception, mcg - microgram, \n",
    "MH - macular hole, MIVS - microincisional vitrectomy surgery, MRI - magnetic resonance imaging, ms - millisecond,\n",
    "MVR - microvitreoretinal, mW - milliwatt, NCVH - non-clearing vitreous hemorrhage, NLP - no light perception, \n",
    "nm – nanometer, NSAID - nonsteroidal anti-inflammatory drug, NV - neovascularization, NVD – neovascularization of the disc, \n",
    "NVI – neovascularization of the iris, OCT - optical coherence tomography, OR - operating room, PCIOL – posterior chamber intraocular lens, \n",
    "PCR - polymerase chain reaction, PCV - polypoidal choroidal vasculopathy, PFCL - perfluorocarbon liquid, PI - peripheral iridotomy, \n",
    "PPV - pars plana vitrectomy, PRH - preretinal hemorrhage, PRK - photorefractive keratectomy, PRP - panretinal laser photocoagulation, \n",
    "PVD - posterior vitreous detachment, PVR - proliferative vitreoretinopathy, RAM - retinal arterial macroaneurysm, \n",
    "RD - retinal detachment, RRD - rhegmatogenous retinal detachment, ROP - retinopathy of prematurity, RP - retinitis pigmentosa,\n",
    "RPE - retinal pigment epithelium, rtPA - recombinant tissue plasminogen activator, SB - scleral buckle, SRF - subretinal fluid, \n",
    "SRH - subretinal hemorrhage, TB - tuberculin, TRD - tractional retinal detachment, UGH – uveitis-glaucoma-hyphema, VA - visual acuity, \n",
    "VEGF - vascular endothelial growth factor, VH – vitreous hemorrhage, VMT - vitreomacular traction, VR - vitreoretinal, VZV - Varicella Zoster virus\"\n",
    "\n",
    "{context}\n",
    "\n",
    "---\n",
    "\n",
    "Answer the question based on the above context: {question}\n",
    "\n",
    "\"\"\""
   ]
  },
  {
   "cell_type": "code",
   "execution_count": 13,
   "metadata": {},
   "outputs": [],
   "source": [
    "def load_documents():\n",
    "    document_loader = PyPDFDirectoryLoader(data_path)\n",
    "    return document_loader.load()"
   ]
  },
  {
   "cell_type": "code",
   "execution_count": 14,
   "metadata": {},
   "outputs": [],
   "source": [
    "documents = load_documents()"
   ]
  },
  {
   "cell_type": "code",
   "execution_count": 15,
   "metadata": {},
   "outputs": [],
   "source": [
    "\n",
    "def get_embedding_function():\n",
    "    embeddings = OllamaEmbeddings(model = \"nomic-embed-text\")\n",
    "    return embeddings"
   ]
  },
  {
   "cell_type": "code",
   "execution_count": 16,
   "metadata": {},
   "outputs": [],
   "source": [
    "def split_documents(documents: list[Document]):\n",
    "    text_splitter = RecursiveCharacterTextSplitter(\n",
    "        chunk_size=1000,\n",
    "        chunk_overlap= 200,\n",
    "        length_function=len,\n",
    "        is_separator_regex=False,\n",
    "    )\n",
    "    return text_splitter.split_documents(documents)\n"
   ]
  },
  {
   "cell_type": "code",
   "execution_count": 17,
   "metadata": {},
   "outputs": [],
   "source": [
    "documents = load_documents()\n",
    "chunks = split_documents(documents)"
   ]
  },
  {
   "cell_type": "code",
   "execution_count": 18,
   "metadata": {},
   "outputs": [],
   "source": [
    "def add_to_chroma(chunks: list[Document]):\n",
    "    # Load the existing database.\n",
    "    db = Chroma(\n",
    "        persist_directory=chroma_path, embedding_function=get_embedding_function()\n",
    "    )\n",
    "\n",
    "    # Calculate Page IDs.\n",
    "    chunks_with_ids = calculate_chunk_ids(chunks)\n",
    "\n",
    "    # Add or Update the documents.\n",
    "    existing_items = db.get(include=[])  # IDs are always included by default\n",
    "    existing_ids = set(existing_items[\"ids\"])\n",
    "    print(f\"Number of existing documents in DB: {len(existing_ids)}\")\n",
    "\n",
    "    # Only add documents that don't exist in the DB.\n",
    "    new_chunks = []\n",
    "    for chunk in chunks_with_ids:\n",
    "        if chunk.metadata[\"id\"] not in existing_ids:\n",
    "            new_chunks.append(chunk)\n",
    "\n",
    "    if len(new_chunks):\n",
    "        print(f\"👉 Adding new documents: {len(new_chunks)}\")\n",
    "        new_chunk_ids = [chunk.metadata[\"id\"] for chunk in new_chunks]\n",
    "        db.add_documents(new_chunks, ids=new_chunk_ids)\n",
    "        db.persist()\n",
    "    else:\n",
    "        print(\"✅ No new documents to add\")"
   ]
  },
  {
   "cell_type": "code",
   "execution_count": 19,
   "metadata": {},
   "outputs": [],
   "source": [
    "def calculate_chunk_ids(chunks):\n",
    "\n",
    "    # This will create IDs like \"data/monopoly.pdf:6:2\"\n",
    "    # Page Source : Page Number : Chunk Index\n",
    "\n",
    "    last_page_id = None\n",
    "    current_chunk_index = 0\n",
    "\n",
    "    for chunk in chunks:\n",
    "        source = chunk.metadata.get(\"source\")\n",
    "        page = chunk.metadata.get(\"page\")\n",
    "        current_page_id = f\"{source}:{page}\"\n",
    "\n",
    "        # If the page ID is the same as the last one, increment the index.\n",
    "        if current_page_id == last_page_id:\n",
    "            current_chunk_index += 1\n",
    "        else:\n",
    "            current_chunk_index = 0\n",
    "\n",
    "        # Calculate the chunk ID.\n",
    "        chunk_id = f\"{current_page_id}:{current_chunk_index}\"\n",
    "        last_page_id = current_page_id\n",
    "\n",
    "        # Add it to the page meta-data.\n",
    "        chunk.metadata[\"id\"] = chunk_id\n",
    "\n",
    "    return chunks"
   ]
  },
  {
   "cell_type": "code",
   "execution_count": 20,
   "metadata": {},
   "outputs": [
    {
     "name": "stdout",
     "output_type": "stream",
     "text": [
      "Number of existing documents in DB: 748\n",
      "👉 Adding new documents: 694\n"
     ]
    }
   ],
   "source": [
    "add_to_chroma(chunks)"
   ]
  },
  {
   "cell_type": "code",
   "execution_count": 21,
   "metadata": {},
   "outputs": [],
   "source": [
    "def query_rag(query_text: str):\n",
    "    # Prepare the DB.\n",
    "    embedding_function = get_embedding_function()\n",
    "\n",
    "    db = Chroma(persist_directory=chroma_path, embedding_function=embedding_function)\n",
    "\n",
    "    # Search the DB.\n",
    "    results = db.similarity_search_with_score(query_text, k=5)\n",
    "\n",
    "    context_text = \"\\n\\n---\\n\\n\".join([doc.page_content for doc, _score in results])\n",
    "    prompt_template = ChatPromptTemplate.from_template(PROMPT_TEMPLATE)\n",
    "    prompt = prompt_template.format(context=context_text, question=query_text)\n",
    "\n",
    "    # Instantiate and use the Llamafile to get the response\n",
    "    llamafile = Llamafile()\n",
    "    response_text = llamafile.invoke(prompt)\n",
    "\n",
    "    sources = [doc.metadata.get(\"id\", None) for doc, _score in results]\n",
    "    formatted_response = f\"Response: {response_text}\\nSources: {sources}\"\n",
    "    print(formatted_response)\n",
    "    return response_text"
   ]
  },
  {
   "cell_type": "code",
   "execution_count": 74,
   "metadata": {},
   "outputs": [],
   "source": [
    "#query_text = \"When using a DORC EVA machine, what is the purpose of using vacuum mode vs. flow mode?\"\n",
    "\n",
    "#query_rag(query_text)"
   ]
  },
  {
   "cell_type": "code",
   "execution_count": 75,
   "metadata": {},
   "outputs": [],
   "source": [
    "#query_text = \"How do I localize the position of breaks in retinal detachment?\"\n",
    "\n",
    "#query_rag(query_text)"
   ]
  },
  {
   "cell_type": "code",
   "execution_count": 76,
   "metadata": {},
   "outputs": [],
   "source": [
    "#query_text = \"What is BSS Plus infusion fluid and what are its properties?\"\n",
    "\n",
    "#query_rag(query_text)"
   ]
  },
  {
   "cell_type": "code",
   "execution_count": 77,
   "metadata": {},
   "outputs": [],
   "source": [
    "#query_text = \"What do I do when the hyaloid is particularly difficult to lift?\"\n",
    "\n",
    "#query_rag(query_text)"
   ]
  },
  {
   "cell_type": "code",
   "execution_count": 78,
   "metadata": {},
   "outputs": [],
   "source": [
    "#query_text = \"What are risks associated with using Endolaser?\"\n",
    "\n",
    "#query_rag(query_text)"
   ]
  },
  {
   "cell_type": "code",
   "execution_count": 79,
   "metadata": {},
   "outputs": [],
   "source": [
    "#query_text = \"What are the different probe types for Endolaser probes?\"\n",
    "\n",
    "#query_rag(query_text)"
   ]
  },
  {
   "cell_type": "code",
   "execution_count": 24,
   "metadata": {},
   "outputs": [
    {
     "name": "stdout",
     "output_type": "stream",
     "text": [
      "Response: Repeat Mode:  i. Initial settings: Power 200 mw, Duration 0.1 - 0.2 sec. Adjust power and distance of probe tip to retina to get desired burn size and intensity. Set the aiming beam brightness so it does not interfere with determining spot intensity, which should be gray-white, not bone-white, popping, or smoking.\n",
      "\n",
      "Continuous Mode:\n",
      "\n",
      "---\n",
      "\n",
      "The settings for continuous mode are the same as repeat mode. However, the primary difference is that continuous mode allows the laser to operate indefinitely without interruption by turning it off and on again. In contrast, repeat mode requires continuous power (200 mW) to maintain adequate burn size and intensity.</s>\n",
      "Sources: ['/Users/jps93/Desktop/RAG/Duke_Manual_PDFs/Vitreoretinal_Surgery/CHAPTER 11 ENDOLASER TYPES AND SETTINGS-need help with formatting (1).pdf:1:0', '/Users/jps93/Desktop/RAG/Duke_Manual_PDFs/Vitreoretinal_Surgery/CHAPTER 11 ENDOLASER TYPES AND SETTINGS-need help with formatting (1).pdf:1:1', '/Users/jps93/Desktop/RAG/Duke_Manual_PDFs/Vitreoretinal_Surgery/CHAPTER 10 ILLUMINATION DURING VITREOUS SURGERY.pdf:0:3', '/Users/jps93/Desktop/RAG/Duke_Manual_PDFs/Vitreoretinal_Surgery/CHAPTER 66 VITRECTOMY WITH THE ENDOSCOPE.pdf:1:1', '/Users/jps93/Desktop/RAG/Duke_Manual_PDFs/Vitreoretinal_Surgery/CHAPTER 49 RD REPAIR IN UVEITIS (1) (1) (1).pdf:2:2']\n"
     ]
    },
    {
     "data": {
      "text/plain": [
       "'Repeat Mode:  i. Initial settings: Power 200 mw, Duration 0.1 - 0.2 sec. Adjust power and distance of probe tip to retina to get desired burn size and intensity. Set the aiming beam brightness so it does not interfere with determining spot intensity, which should be gray-white, not bone-white, popping, or smoking.\\n\\nContinuous Mode:\\n\\n---\\n\\nThe settings for continuous mode are the same as repeat mode. However, the primary difference is that continuous mode allows the laser to operate indefinitely without interruption by turning it off and on again. In contrast, repeat mode requires continuous power (200 mW) to maintain adequate burn size and intensity.</s>'"
      ]
     },
     "execution_count": 24,
     "metadata": {},
     "output_type": "execute_result"
    }
   ],
   "source": [
    "query_text = \"What are the settings for repeat vs continuous mode for Endolaser?\"\n",
    "\n",
    "query_rag(query_text)"
   ]
  },
  {
   "cell_type": "code",
   "execution_count": 23,
   "metadata": {},
   "outputs": [
    {
     "name": "stdout",
     "output_type": "stream",
     "text": [
      "Response: Risk factors for age-related macular degeneration (AMD) are older age, genetic risk, smoking, and low dietary intake of antioxidants. The epidemiology of AMD is predominantly driven by a combination of these factors. Risk factors have been shown to increase the likelihood of developing AMD over time, with some studies suggesting that early risk factors may be modifiable through lifestyle changes such as smoking cessation and regular exercise.\n",
      "\n",
      "Examples of foods rich in antioxidants include berries (blueberries, strawberries), leafy green vegetables (spinach, kale, collard greens), cruciferous vegetables (broccoli, Brussels sprouts, cauliflower), and citrus fruits (oranges, grapefruit). Other foods that contain antioxidants include nuts, seeds, legumes, and fish.\n",
      "\n",
      "Smoking is a major risk factor for AMD. In fact, smokers are 35-60% more likely to develop AMD than non-smokers. Smoking also increases the risk of other age-related eye diseases such as age-related macular degeneration (AMD) and cataracts.\n",
      "\n",
      "Low dietary intake of antioxidants can also increase the risk of developing AMD. However, recent studies have shown that consuming a Mediterranean-type diet rich in fruits, vegetables, nuts, seeds, and legumes may reduce this risk. This diet is characterized by a high intake of fiber and antioxidant-rich foods such as spinach, broccoli, and berries.</s>\n",
      "Sources: ['/Users/jps93/Desktop/Retina1/Age-related macular degeneration - UpToDate.pdf:16:1', '/Users/jps93/Desktop/Retina1/Age-related macular degeneration - UpToDate.pdf:18:2', '/Users/jps93/Desktop/Retina1/Age-related macular degeneration - UpToDate.pdf:17:2', '/Users/jps93/Desktop/Retina1/Age-related macular degeneration - UpToDate.pdf:13:0', '/Users/jps93/Desktop/Retina1/Age-related macular degeneration - UpToDate.pdf:18:1']\n"
     ]
    },
    {
     "data": {
      "text/plain": [
       "'Risk factors for age-related macular degeneration (AMD) are older age, genetic risk, smoking, and low dietary intake of antioxidants. The epidemiology of AMD is predominantly driven by a combination of these factors. Risk factors have been shown to increase the likelihood of developing AMD over time, with some studies suggesting that early risk factors may be modifiable through lifestyle changes such as smoking cessation and regular exercise.\\n\\nExamples of foods rich in antioxidants include berries (blueberries, strawberries), leafy green vegetables (spinach, kale, collard greens), cruciferous vegetables (broccoli, Brussels sprouts, cauliflower), and citrus fruits (oranges, grapefruit). Other foods that contain antioxidants include nuts, seeds, legumes, and fish.\\n\\nSmoking is a major risk factor for AMD. In fact, smokers are 35-60% more likely to develop AMD than non-smokers. Smoking also increases the risk of other age-related eye diseases such as age-related macular degeneration (AMD) and cataracts.\\n\\nLow dietary intake of antioxidants can also increase the risk of developing AMD. However, recent studies have shown that consuming a Mediterranean-type diet rich in fruits, vegetables, nuts, seeds, and legumes may reduce this risk. This diet is characterized by a high intake of fiber and antioxidant-rich foods such as spinach, broccoli, and berries.</s>'"
      ]
     },
     "execution_count": 23,
     "metadata": {},
     "output_type": "execute_result"
    }
   ],
   "source": [
    "query_text = \"What are the risk factors for age related macular degeneration?\"\n",
    "\n",
    "query_rag(query_text)"
   ]
  }
 ],
 "metadata": {
  "kernelspec": {
   "display_name": "Python 3",
   "language": "python",
   "name": "python3"
  },
  "language_info": {
   "codemirror_mode": {
    "name": "ipython",
    "version": 3
   },
   "file_extension": ".py",
   "mimetype": "text/x-python",
   "name": "python",
   "nbconvert_exporter": "python",
   "pygments_lexer": "ipython3",
   "version": "3.12.4"
  }
 },
 "nbformat": 4,
 "nbformat_minor": 2
}
