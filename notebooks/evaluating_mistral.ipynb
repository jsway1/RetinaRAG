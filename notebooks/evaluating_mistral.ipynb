{
 "cells": [
  {
   "cell_type": "code",
   "execution_count": 41,
   "metadata": {},
   "outputs": [],
   "source": [
    "import openai \n",
    "from langchain.vectorstores.chroma import Chroma\n",
    "from langchain.prompts import ChatPromptTemplate\n",
    "from sklearn.feature_extraction.text import TfidfVectorizer\n",
    "from sklearn.metrics.pairwise import cosine_similarity"
   ]
  },
  {
   "cell_type": "code",
   "execution_count": 52,
   "metadata": {},
   "outputs": [],
   "source": [
    "def invoke_llamafile(prompt):\n",
    "    \n",
    "    \"\"\"\n",
    "    This function interacts with the Llamafile model to get the response.\n",
    "    \n",
    "    Input:\n",
    "    prompt: str\n",
    "    \n",
    "    Returns:\n",
    "    response: str\n",
    "    \"\"\"\n",
    "    client = openai.OpenAI(\n",
    "        base_url=\"http://localhost:8080/v1\",\n",
    "        api_key=\"sk-no-key-required\"\n",
    "    )\n",
    "    completion = client.chat.completions.create(\n",
    "        model=\"LLaMA_CPP\",\n",
    "        messages=[\n",
    "            {\"role\": \"system\", \"content\": \"You are an experienced vitreoretinal surgeon speaking with trainees. You can answer detailed questions about vitreoretinal surgery concisely and accurately. Limit your responses to one sentence ONLY.\"},\n",
    "            {\"role\": \"user\", \"content\": prompt}\n",
    "        ]\n",
    "    )\n",
    "    \n",
    "    return completion.choices[0].message.content"
   ]
  },
  {
   "cell_type": "code",
   "execution_count": 53,
   "metadata": {},
   "outputs": [],
   "source": [
    "def invoke_llama_only(prompt):\n",
    "    \n",
    "    \"\"\"\n",
    "    This function interacts with the ONLY the Llamafile model to get the response (no RAG prompting)\n",
    "    \n",
    "    Input:\n",
    "    prompt: str\n",
    "    \n",
    "    Returns:\n",
    "    response: str\n",
    "    \"\"\"\n",
    "    client = openai.OpenAI(\n",
    "        base_url=\"http://localhost:8080/v1\",\n",
    "        api_key=\"sk-no-key-required\"\n",
    "    )\n",
    "    completion = client.chat.completions.create(\n",
    "        model=\"LLaMA_CPP\",\n",
    "        messages=[\n",
    "            {\"role\": \"system\", \"content\": \"\"},\n",
    "            {\"role\": \"user\", \"content\": prompt}\n",
    "        ]\n",
    "    )\n",
    "    \n",
    "    return completion.choices[0].message.content"
   ]
  },
  {
   "cell_type": "code",
   "execution_count": 54,
   "metadata": {},
   "outputs": [],
   "source": [
    "def query_rag(query_text: str):\n",
    "    \n",
    "    '''\n",
    "    This function takes a query text and returns the response from the RAG model\n",
    "    \n",
    "    Input:\n",
    "    \n",
    "    query_text: str\n",
    "    \n",
    "    Returns:\n",
    "    \n",
    "    response_rag: str\n",
    "    \n",
    "    '''\n",
    "    # Get the embedding function and search the database\n",
    "    embedding_function = get_embedding_function()\n",
    "    db = Chroma(persist_directory=chroma_path, embedding_function=embedding_function)\n",
    "\n",
    "    # Search the database for the most similar chunks, and return the top 3\n",
    "    results = db.similarity_search_with_score(query_text, k=3)\n",
    "\n",
    "    # Prepare context text\n",
    "    context_text = \"\\n\\n---\\n\\n\".join([doc.page_content for doc, _score in results])\n",
    "    prompt_template = ChatPromptTemplate.from_template(PROMPT_TEMPLATE)\n",
    "    prompt = prompt_template.format(context=context_text, question=query_text)\n",
    "\n",
    "    # Instantiate and use the Llamafile to get the response\n",
    "    response_rag = invoke_llamafile(prompt)\n",
    "    \n",
    "    response_llm_only = invoke_llama_only(query_text)\n",
    "  \n",
    "  \n",
    "    return response_rag , response_llm_only "
   ]
  },
  {
   "cell_type": "code",
   "execution_count": 55,
   "metadata": {},
   "outputs": [
    {
     "name": "stdout",
     "output_type": "stream",
     "text": [
      "Cosine Similarity: 1.0\n"
     ]
    }
   ],
   "source": [
    "def calculate_cosine_similarity(text1, text2):\n",
    "    '''\n",
    "    \n",
    "    This function calculates the cosine similarity between two text strings.\n",
    "    \n",
    "    Input:\n",
    "    \n",
    "    text1: str\n",
    "    \n",
    "    text2: str\n",
    "    \n",
    "    Returns:\n",
    "    \n",
    "    cosine_similarity: float\n",
    "    \n",
    "    '''\n",
    "    # Create the TF-IDF vectorizer\n",
    "    vectorizer = TfidfVectorizer()\n",
    "\n",
    "    # Vectorize the text strings\n",
    "    tfidf_matrix = vectorizer.fit_transform([text1, text2])\n",
    "\n",
    "    # Compute the cosine similarity\n",
    "    cosine_sim = cosine_similarity(tfidf_matrix[0:1], tfidf_matrix[1:2])\n",
    "\n",
    "    return cosine_sim[0][0]"
   ]
  },
  {
   "cell_type": "code",
   "execution_count": 68,
   "metadata": {},
   "outputs": [
    {
     "name": "stdout",
     "output_type": "stream",
     "text": [
      "Ideal Response: Nonmodifiable risk factors for age related macular degeneration include older age and genetic risk.\n",
      "Response from RAG:  Age and genetics are the most significant non-modifiable risk factors for age-related macular degeneration.</s>\n",
      "Response from LLM only:  Age is the most significant non-modifiable risk factor for Age-Related Macular Degeneration (AMD). AMD is a progressive eye condition that mainly affects older adults, with the risk increasing significantly after the age of 50. Other non-modifiable risk factors include:\n",
      "\n",
      "1. Genetics: Having a family history of AMD increases the risk of developing the condition. Certain genes have been linked to AMD, such as the Complement Factor H (CFH) and Complement Factor H Y402H (CFHY402H) variants.\n",
      "\n",
      "2. Ethnicity: AMD is more common in Caucasians than in other ethnic groups. African Americans, Hispanics, and Asians are at a lower risk but still develop AMD as they age.\n",
      "\n",
      "3. Gender: Women are more likely to develop AMD than men.\n",
      "\n",
      "4. Smoking: While smoking is a modifiable risk factor, it's worth mentioning that smoking increases the risk of developing AMD, especially the more severe forms of the condition.\n",
      "\n",
      "5. Other medical conditions: Certain medical conditions, such as hypertension, cardiovascular disease, and diabetes, have been linked to an increased risk of AMD.\n",
      "\n",
      "It's important to note that while these factors are non-modifiable, there are several modifiable risk factors that can help reduce the risk of AMD, such as maintaining a healthy diet, regular physical activity, and not smoking. Regular eye examinations are also crucial for early detection and treatment of AMD.</s>\n",
      "Similarity between LLM response and ideal response: 0.2608584091097248\n",
      "Similarity between RAG response and ideal response: 0.51461334985035\n"
     ]
    }
   ],
   "source": [
    "query_text = \"What are the most signficant non-modifiable risk factors for age related macular degeneration?\"\n",
    "ideal_response = \"Nonmodifiable risk factors for age related macular degeneration include older age and genetic risk.\"\n",
    "\n",
    "# ask the llm to generate response for the query text\n",
    "\n",
    "response_rag, response_llm_only = query_rag(query_text)\n",
    "\n",
    "print(f\"Ideal Response: {ideal_response}\")\n",
    "\n",
    "print(f\"Response from RAG: {response_rag}\")\n",
    "\n",
    "print(f\"Response from LLM only: {response_llm_only}\")\n",
    "\n",
    "similarity_llm_ideal_1 = calculate_cosine_similarity(response_llm_only, ideal_response)\n",
    "similarity_rag_ideal_1 = calculate_cosine_similarity(response_rag, ideal_response)\n",
    "\n",
    "print(f\"Similarity between LLM response and ideal response: {similarity_llm_ideal_1}\")  \n",
    "print(f\"Similarity between RAG response and ideal response: {similarity_rag_ideal_1}\")"
   ]
  },
  {
   "cell_type": "code",
   "execution_count": 67,
   "metadata": {},
   "outputs": [
    {
     "name": "stdout",
     "output_type": "stream",
     "text": [
      "Ideal Response: There is lack of conclusive evidence about the benefit of multivitamin supplements in AMD, but antioxidant vitamins (A, C, and E), may help reduce the risk and progression of age-related macular degeneration by neutralizing free radicals\n",
      "Response from RAG:  Antioxidant vitamins, particularly A, C, and E, may help reduce the risk and progression of age-related macular degeneration by neutralizing free radicals and protecting the retina from oxidative damage. However, their role in preventing legal blindness is not definitively established. (Sources: 8,9)</s>\n",
      "Response from LLM only:  Antioxidant vitamins, particularly A, C, and E, have been studied extensively in relation to Age-Related Macular Degeneration (AMD) due to their role in protecting the eyes from oxidative damage. Oxidative stress is believed to play a significant role in the development and progression of AMD.\n",
      "\n",
      "The Age-Related Eye Disease Study (AREDS) and the Age-Related Eye Disease Study 2 (AREDS2) are two large, randomized controlled trials that have investigated the role of antioxidant vitamins and other nutrients in preventing or slowing the progression of AMD. The results of these studies suggest that a daily intake of a specific formulation of antioxidant vitamins and minerals can help reduce the risk of developing advanced AMD in people who are at high risk.\n",
      "\n",
      "The antioxidant vitamins in the AREDS and AREDS2 formulations include:\n",
      "\n",
      "* Vitamin A (as beta-carotene)\n",
      "* Vitamin C\n",
      "* Vitamin E\n",
      "\n",
      "Other nutrients, such as zinc and copper, were also included in the formulation.\n",
      "\n",
      "It is important to note that taking antioxidant vitamins is not a substitute for regular eye examinations and good overall health. If you have AMD or are at risk, it is important to talk to your doctor about your individual needs and the best ways to protect your vision.</s>\n",
      "Similarity between LLM response and ideal response: 0.46277279130482635\n",
      "Similarity between RAG response and ideal response: 0.5171457974601141\n"
     ]
    }
   ],
   "source": [
    "query_text = \"What is the role of antioxidant vitamins in age related macular degeneration?\"\n",
    "ideal_response = \"There is lack of conclusive evidence about the benefit of multivitamin supplements in AMD, but antioxidant vitamins (A, C, and E), may help reduce the risk and progression of age-related macular degeneration by neutralizing free radicals\"\n",
    "\n",
    "# ask the llm to generate response for the query text\n",
    "\n",
    "response_rag, response_llm_only = query_rag(query_text)\n",
    "\n",
    "print(f\"Ideal Response: {ideal_response}\")\n",
    "\n",
    "print(f\"Response from RAG: {response_rag}\")\n",
    "\n",
    "print(f\"Response from LLM only: {response_llm_only}\")\n",
    "\n",
    "similarity_llm_ideal_2 = calculate_cosine_similarity(response_llm_only, ideal_response)\n",
    "similarity_rag_ideal_2 = calculate_cosine_similarity(response_rag, ideal_response)\n",
    "\n",
    "print(f\"Similarity between LLM response and ideal response: {similarity_llm_ideal_2}\")  \n",
    "print(f\"Similarity between RAG response and ideal response: {similarity_rag_ideal_2}\")\n",
    "\n",
    "\n"
   ]
  },
  {
   "cell_type": "code",
   "execution_count": 72,
   "metadata": {},
   "outputs": [
    {
     "name": "stdout",
     "output_type": "stream",
     "text": [
      "Ideal Response: Serious risks of anti-VEGF therapy include infection and retinal detachment\n",
      "Response from RAG:  The serious risks of anti-VEGF therapy for age related macular degeneration include infection and retinal detachment. These risks should be interpreted in the context that patients receive multiple injections over long periods of time.</s>\n",
      "Response from LLM only:  Anti-VEGF therapy is a common treatment for age-related macular degeneration (AMD), which is a leading cause of vision loss in older adults. The goal of this therapy is to inhibit the action of vascular endothelial growth factor (VEGF), a protein that promotes the growth of new blood vessels in the eye, which can lead to vision loss in AMD.\n",
      "\n",
      "While anti-VEGF therapy has been shown to be effective in slowing the progression of AMD and improving vision in some patients, it does carry some risks. Some of the most serious risks include:\n",
      "\n",
      "1. Intraocular Infections: Anti-VEGF therapy increases the risk of developing intraocular infections, such as endophthalmitis, which can lead to vision loss or even blindness if left untreated.\n",
      "2. Retinal Detachment: Anti-VEGF therapy may increase the risk of retinal detachment, which can cause vision loss if not treated promptly.\n",
      "3. Thromboembolic Events: Anti-VEGF therapy may increase the risk of thromboembolic events, such as stroke or heart attack, due to the inhibition of VEGF, which is also involved in the formation of new blood vessels in the body.\n",
      "4. Ocular Side Effects: Anti-VEGF therapy can cause various ocular side effects, such as eye pain, redness, and inflammation, which can be uncomfortable and may affect vision.\n",
      "5. Systemic Side Effects: Anti-VEGF therapy can also cause systemic side effects, such as high blood pressure, proteinuria, and thrombosis, which can be serious and require close monitoring.\n",
      "6. Cost: Anti-VEGF therapy is a costly treatment, and the frequent injections required for effective treatment can add up over time, making it a financial burden for some patients.\n",
      "\n",
      "It is important to note that the risks of anti-VEGF therapy vary from patient to patient, and the benefits of the treatment may outweigh the risks for some individuals. Therefore, it is important to discuss the risks and benefits of anti-VEGF therapy with your healthcare provider to determine if it is the right treatment option for you.</s>\n",
      "Similarity between LLM response and ideal response: 0.3603219980123391\n",
      "Similarity between RAG response and ideal response: 0.4884017338387102\n"
     ]
    }
   ],
   "source": [
    "query_text = \"What are some serious risks of anti-VEGF therapy for age related macular degeneration?\"\n",
    "ideal_response = \"Serious risks of anti-VEGF therapy include infection and retinal detachment\"\n",
    "\n",
    "# ask the llm to generate response for the query text\n",
    "\n",
    "response_rag, response_llm_only = query_rag(query_text)\n",
    "\n",
    "print(f\"Ideal Response: {ideal_response}\")\n",
    "\n",
    "print(f\"Response from RAG: {response_rag}\")\n",
    "\n",
    "print(f\"Response from LLM only: {response_llm_only}\")\n",
    "\n",
    "similarity_llm_ideal_3 = calculate_cosine_similarity(response_llm_only, ideal_response)\n",
    "similarity_rag_ideal_3 = calculate_cosine_similarity(response_rag, ideal_response)\n",
    "\n",
    "print(f\"Similarity between LLM response and ideal response: {similarity_llm_ideal_3}\")  \n",
    "print(f\"Similarity between RAG response and ideal response: {similarity_rag_ideal_3}\")"
   ]
  },
  {
   "cell_type": "code",
   "execution_count": 73,
   "metadata": {},
   "outputs": [
    {
     "name": "stdout",
     "output_type": "stream",
     "text": [
      "Ideal Response: The course of ROP is more correlated with postmenstrual age (PMA) than postnatal age\n",
      "Response from RAG:  Retinopathy of prematurity (ROP) progression is more correlated with postmenstrual age.</s>\n",
      "Response from LLM only:  The course of Retinopathy of Prematurity (ROP) is more closely related to postmenstrual age rather than postnatal age. This is because ROP is primarily a disease of prematurity, and its development is influenced by the gestational age at birth. Postmenstrual age is a more accurate indicator of the developmental stage of the retina at the time of birth, which is crucial in understanding the risk and progression of ROP. Postnatal age, on the other hand, only reflects the time elapsed since birth and may not necessarily reflect the developmental stage of the retina.</s>\n",
      "Similarity between LLM response and ideal response: 0.5197007620335637\n",
      "Similarity between RAG response and ideal response: 0.527835809618309\n"
     ]
    }
   ],
   "source": [
    "query_text = \"Is the course of retinopathy of prematurity (ROP) more correlated with postmenstrual age or postnatal age?\"\n",
    "ideal_response = \"The course of ROP is more correlated with postmenstrual age (PMA) than postnatal age\"\n",
    "\n",
    "# ask the llm to generate response for the query text\n",
    "\n",
    "response_rag, response_llm_only = query_rag(query_text)\n",
    "\n",
    "print(f\"Ideal Response: {ideal_response}\")\n",
    "\n",
    "print(f\"Response from RAG: {response_rag}\")\n",
    "\n",
    "print(f\"Response from LLM only: {response_llm_only}\")\n",
    "\n",
    "similarity_llm_ideal_4 = calculate_cosine_similarity(response_llm_only, ideal_response)\n",
    "similarity_rag_ideal_4 = calculate_cosine_similarity(response_rag, ideal_response)\n",
    "\n",
    "print(f\"Similarity between LLM response and ideal response: {similarity_llm_ideal_4}\")  \n",
    "print(f\"Similarity between RAG response and ideal response: {similarity_rag_ideal_4}\")"
   ]
  },
  {
   "cell_type": "code",
   "execution_count": 74,
   "metadata": {},
   "outputs": [
    {
     "name": "stdout",
     "output_type": "stream",
     "text": [
      "Ideal Response: We initiate retinal examinations at 31 weeks postmenstrual age(PMA) for infants born at 22 to 27 weeks and at four weeks of chronologic age for infants bornat ≥28 weeks\n",
      "Response from RAG:  Infants born at 22 to 27 weeks should undergo retinal examinations starting at 4 to 6 weeks of age, while those born at 28 weeks or more should have their first retinal examination between 6 to 12 weeks of age. (RP: retinopathy of prematurity)</s>\n",
      "Response from LLM only:  The American Academy of Pediatrics (AAP) recommends that infants born at or before 27 weeks of gestation undergo a comprehensive ocular examination within the first 48 hours of life, and then at regular intervals based on the infant's clinical condition and risk factors for ocular diseases. This is due to the higher risk of ocular complications, such as retinopathy of prematurity (ROP), in premature infants.\n",
      "\n",
      "For infants born at 28 weeks or more, the AAP recommends that they undergo a comprehensive ocular examination before discharge from the hospital, or within the first week of life if they are at high risk for ocular diseases. This is to ensure that any potential ocular issues are identified and addressed early.\n",
      "\n",
      "It's important to note that these recommendations may vary depending on the specific clinical guidelines and practices of individual healthcare providers and institutions. Therefore, it's always best to consult with a healthcare professional for specific guidance on your infant's ocular health.</s>\n",
      "Similarity between LLM response and ideal response: 0.2443071435156528\n",
      "Similarity between RAG response and ideal response: 0.5580137583305234\n"
     ]
    }
   ],
   "source": [
    "query_text = \"When do we initiate retinal examinations for infants born at 22 to 27 weeks and for infants born at 28 weeks or more?\"\n",
    "ideal_response = \"We initiate retinal examinations at 31 weeks postmenstrual age (PMA) for infants born at 22 to 27 weeks and at four weeks of chronologic age for infants bornat ≥28 weeks\"\n",
    "\n",
    "# ask the llm to generate response for the query text\n",
    "\n",
    "response_rag, response_llm_only = query_rag(query_text)\n",
    "\n",
    "print(f\"Ideal Response: {ideal_response}\")\n",
    "\n",
    "print(f\"Response from RAG: {response_rag}\")\n",
    "\n",
    "print(f\"Response from LLM only: {response_llm_only}\")\n",
    "\n",
    "similarity_llm_ideal_5 = calculate_cosine_similarity(response_llm_only, ideal_response)\n",
    "similarity_rag_ideal_5 = calculate_cosine_similarity(response_rag, ideal_response)\n",
    "\n",
    "print(f\"Similarity between LLM response and ideal response: {similarity_llm_ideal_5}\")  \n",
    "print(f\"Similarity between RAG response and ideal response: {similarity_rag_ideal_5}\")"
   ]
  },
  {
   "cell_type": "code",
   "execution_count": 77,
   "metadata": {},
   "outputs": [
    {
     "name": "stdout",
     "output_type": "stream",
     "text": [
      "Ideal Response: The differential diagnosis of panuveitis includes bacterial and viral infections, scleritis, uveitis, and various systemic diseases such as Behçet's disease, Vogt-Koyanagi-Harada disease, and birdshot chorioretinopathy\n",
      "Response from RAG:  The differential diagnosis of panuveitis includes bacterial and viral infections, scleritis, uveitis, and various systemic diseases such as Behçet's disease, Vogt-Koyanagi-Harada disease, and birdshot chorioretinopathy. Additionally, it can be associated with conditions like tuberculosis, syphilis, and sarcoidosis. In some cases, it may be secondary to trauma or intraocular surgery.</s>\n",
      "Response from LLM only:  Panuveitis is a type of uveitis that affects the entire uveoscleral system, including the iris, ciliary body, choroid, retina, and vitreous. The differential diagnosis of panuveitis includes various inflammatory and infectious conditions. Here are some of the most common causes of panuveitis:\n",
      "\n",
      "1. Infectious causes:\n",
      "   * Viral infections: Herpes simplex virus, Varicella-zoster virus, Human Immunodeficiency Virus (HIV), Toxoplasmosis, Syphilis, and others.\n",
      "   * Bacterial infections: Tuberculosis, Syphilis, Lyme disease, and others.\n",
      "   * Fungal infections: Coccidioidomycosis, Histoplasmosis, and others.\n",
      "   * Parasitic infections: Toxoplasmosis, Onchocerciasis, and others.\n",
      "\n",
      "2. Non-infectious causes:\n",
      "   * Autoimmune diseases: Ankylosing Spondylitis, Behçet's disease, Vogt-Koyanagi-Harada disease, Sjögren's syndrome, and others.\n",
      "   * Systemic diseases: Crohn's disease, Behçet's disease, Reiter's syndrome, and others.\n",
      "   * Drugs: Penicillamine, Sulfonamides, and others.\n",
      "   * Neoplastic conditions: Leukemia, Lymphoma, and others.\n",
      "\n",
      "It is important to note that the differential diagnosis of panuveitis can be complex, and a thorough clinical evaluation, including a detailed medical history, physical examination, and laboratory tests, is necessary to make an accurate diagnosis. Consultation with an ophthalmologist or an immunologist may be required for proper diagnosis and treatment.</s>\n",
      "Similarity between LLM response and ideal response: 0.5027664149292926\n",
      "Similarity between RAG response and ideal response: 0.6578482720315942\n"
     ]
    }
   ],
   "source": [
    "query_text = \"What is on the differential diagnosis of panuveitis?\"\n",
    "ideal_response = \"The differential diagnosis of panuveitis includes bacterial and viral infections, scleritis, uveitis, and various systemic diseases such as Behçet's disease, Vogt-Koyanagi-Harada disease, and birdshot chorioretinopathy\"\n",
    "\n",
    "# ask the llm to generate response for the query text\n",
    "\n",
    "response_rag, response_llm_only = query_rag(query_text)\n",
    "\n",
    "print(f\"Ideal Response: {ideal_response}\")\n",
    "\n",
    "print(f\"Response from RAG: {response_rag}\")\n",
    "\n",
    "print(f\"Response from LLM only: {response_llm_only}\")\n",
    "\n",
    "similarity_llm_ideal_6 = calculate_cosine_similarity(response_llm_only, ideal_response)\n",
    "similarity_rag_ideal_6 = calculate_cosine_similarity(response_rag, ideal_response)\n",
    "\n",
    "print(f\"Similarity between LLM response and ideal response: {similarity_llm_ideal_6}\")  \n",
    "print(f\"Similarity between RAG response and ideal response: {similarity_rag_ideal_6}\")"
   ]
  },
  {
   "cell_type": "code",
   "execution_count": 81,
   "metadata": {},
   "outputs": [
    {
     "name": "stdout",
     "output_type": "stream",
     "text": [
      "Ideal Response: Intravitreal glucocorticoids can be used off-label to treat macular edema associated with retinal vein occlusion (RVO), improving visual outcomes.\n",
      "Response from RAG:  Intravitreal glucocorticoids can be used off-label to treat macular edema associated with retinal vein occlusion (RVO), improving visual outcomes. However, long-term safety and efficacy have not been established.</s>\n",
      "Response from LLM only:  Intravitreal glucocorticoids, such as triamcinolone acetonide and dexamethasone, have been used in the therapy of retinal vein occlusion (RVO) as an alternative or adjunctive treatment to anti-vascular endothelial growth factor (anti-VEGF) agents. The primary role of intravitreal glucocorticoids in RVO therapy is to reduce inflammation and retinal edema.\n",
      "\n",
      "RVO is a common retinal vascular disease characterized by the obstruction of retinal veins, leading to retinal ischemia, edema, and neovascularization. The inflammatory response plays a crucial role in the pathogenesis of RVO, and intravitreal glucocorticoids have been shown to reduce inflammation and retinal edema by suppressing the production of pro-inflammatory cytokines and reducing the activity of microglia and astrocytes.\n",
      "\n",
      "Several studies have reported the efficacy of intravitreal glucocorticoids in the treatment of RVO. Triamcinolone acetonide and dexamethasone have been shown to improve visual acuity, reduce central retinal thickness, and reduce the size of retinal edema in patients with RVO. However, the use of intravitreal glucocorticoids is limited by the risk of raising intraocular pressure, cataract formation, and the potential for increased risk of infectious endophthalmitis.\n",
      "\n",
      "In summary, intravitreal glucocorticoids have a role in the therapy of RVO as an alternative or adjunctive treatment to anti-VEGF agents. Their primary role is to reduce inflammation and retinal edema, but their use is limited by the risk of side effects such as increased intraocular pressure, cataract formation, and infectious endophthalmitis.</s>\n",
      "Similarity between LLM response and ideal response: 0.18243941784147763\n",
      "Similarity between RAG response and ideal response: 0.7092972666062739\n"
     ]
    }
   ],
   "source": [
    "query_text = \"What is the role of intravitreal glucocorticoids in the therapy of retinal vein occlusion (RVO).\"\n",
    "ideal_response = \"Intravitreal glucocorticoids can be used off-label to treat macular edema associated with retinal vein occlusion (RVO), improving visual outcomes.\"\n",
    "\n",
    "# ask the llm to generate response for the query text\n",
    "\n",
    "response_rag, response_llm_only = query_rag(query_text)\n",
    "\n",
    "print(f\"Ideal Response: {ideal_response}\")\n",
    "\n",
    "print(f\"Response from RAG: {response_rag}\")\n",
    "\n",
    "print(f\"Response from LLM only: {response_llm_only}\")\n",
    "\n",
    "similarity_llm_ideal_7 = calculate_cosine_similarity(response_llm_only, ideal_response)\n",
    "similarity_rag_ideal_7 = calculate_cosine_similarity(response_rag, ideal_response)\n",
    "\n",
    "print(f\"Similarity between LLM response and ideal response: {similarity_llm_ideal_7}\")  \n",
    "print(f\"Similarity between RAG response and ideal response: {similarity_rag_ideal_7}\")"
   ]
  },
  {
   "cell_type": "code",
   "execution_count": 82,
   "metadata": {},
   "outputs": [
    {
     "name": "stdout",
     "output_type": "stream",
     "text": [
      "Ideal Response: A rhegmatogenous retinal detachment (RRD) is themost common type of retinal detachment.\n",
      "Response from RAG:  Rhegmatogenous retinal detachment (RRD) is the most common type of retinal detachment.</s>\n",
      "Response from LLM only:  The most common type of retinal detachment is called \"rhegmatogenous retinal detachment.\" This occurs when there is a tear or hole in the retina, allowing fluid from the vitreous gel inside the eye to accumulate under the retina and cause it to detach. This type of retinal detachment accounts for about 90% of all cases. Other less common types of retinal detachment include traumatic retinal detachment (caused by injury to the eye), tractional retinal detachment (caused by scar tissue or other conditions that pull on the retina), and exudative retinal detachment (caused by fluid accumulation under the retina from conditions such as inflammation or cancer).</s>\n",
      "Similarity between LLM response and ideal response: 0.42516841569703284\n",
      "Similarity between RAG response and ideal response: 0.8267283375553851\n"
     ]
    }
   ],
   "source": [
    "query_text = \"What is the most common type of retinal detachment?\"\n",
    "ideal_response = \"A rhegmatogenous retinal detachment (RRD) is themost common type of retinal detachment.\"\n",
    "\n",
    "# ask the llm to generate response for the query text\n",
    "\n",
    "response_rag, response_llm_only = query_rag(query_text)\n",
    "\n",
    "print(f\"Ideal Response: {ideal_response}\")\n",
    "\n",
    "print(f\"Response from RAG: {response_rag}\")\n",
    "\n",
    "print(f\"Response from LLM only: {response_llm_only}\")\n",
    "\n",
    "similarity_llm_ideal_8 = calculate_cosine_similarity(response_llm_only, ideal_response)\n",
    "similarity_rag_ideal_8 = calculate_cosine_similarity(response_rag, ideal_response)\n",
    "\n",
    "print(f\"Similarity between LLM response and ideal response: {similarity_llm_ideal_8}\")  \n",
    "print(f\"Similarity between RAG response and ideal response: {similarity_rag_ideal_8}\")"
   ]
  },
  {
   "cell_type": "code",
   "execution_count": 85,
   "metadata": {},
   "outputs": [
    {
     "name": "stdout",
     "output_type": "stream",
     "text": [
      "Ideal Response: A primary challenge of VEGF inhibitor therapy is the need for repeated intravitreal injections, which contributes to nonadherence and undertreatment\n",
      "Response from RAG:  The primary challenges of anti-VEGF treatment include the risk of infection and retinal detachment, the need for regular injections to maintain efficacy, and the potential for recurrence or progression of proliferative diabetic retinopathy with cessation of therapy. Long-term safety and efficacy have not been established.</s>\n",
      "Response from LLM only:  Anti-vascular endothelial growth factor (anti-VEGF) treatment is a common therapeutic approach for various conditions, including age-related macular degeneration (AMD), diabetic retinopathy, and macular edema. While anti-VEGF therapy has revolutionized the management of these conditions, it also comes with several challenges:\n",
      "\n",
      "1. Intravitreal injections: Anti-VEGF therapy is typically administered as intravitreal injections, which can be uncomfortable for patients and may cause anxiety. Repeated injections are necessary to maintain therapeutic effects, which can lead to increased burden on patients and healthcare systems.\n",
      "\n",
      "2. Variability in response: Anti-VEGF therapy can have significant variability in response between individuals, making it challenging to predict which patients will respond best to treatment. Some patients may experience significant improvement, while others may not respond at all or may experience side effects.\n",
      "\n",
      "3. Side effects: Anti-VEGF therapy can cause various side effects, including intraocular inflammation, retinal detachment, endophthalmitis, and cataract formation. These side effects can lead to vision loss and may require additional treatment.\n",
      "\n",
      "4. Cost: Anti-VEGF therapy is expensive, and the cost of treatment can be a significant burden for patients and healthcare systems. The high cost of these medications can limit access to care for some patients.\n",
      "\n",
      "5. Monitoring: Patients receiving anti-VEGF therapy require regular monitoring to assess the effectiveness of treatment and to identify and manage any side effects. This monitoring can be time-consuming and resource-intensive, adding to the overall cost and complexity of care.\n",
      "\n",
      "6. Long-term effects: The long-term effects of anti-VEGF therapy are not yet fully understood, and there are concerns about potential risks, such as increased risk of cardiovascular events and malignancies. Further research is needed to fully understand the long-term safety and efficacy of these treatments.\n",
      "\n",
      "7. Alternatives: While anti-VEGF therapy is an effective treatment for many conditions, there are limitations to its use, and alternative treatments are being developed. These alternatives may offer advantages in terms of safety, efficacy, and cost, but they also come with their own challenges and limitations.\n",
      "\n",
      "8. Combinations: In some cases, combinations of anti-VEGF therapy with other treatments, such as photodynamic therapy or laser treatment, may be necessary to achieve optimal outcomes. Managing these combinations can be complex and challenging for healthcare providers.</s>\n",
      "Similarity between LLM response and ideal response: 0.3314914626823098\n",
      "Similarity between RAG response and ideal response: 0.3433161792675626\n"
     ]
    }
   ],
   "source": [
    "query_text = \"What are the primary challenges of anti-VEGF treatment?\"\n",
    "ideal_response = \"A primary challenge of VEGF inhibitor therapy is the need for repeated intravitreal injections, which contributes to nonadherence and undertreatment\"\n",
    "\n",
    "# ask the llm to generate response for the query text\n",
    "\n",
    "response_rag, response_llm_only = query_rag(query_text)\n",
    "\n",
    "print(f\"Ideal Response: {ideal_response}\")\n",
    "\n",
    "print(f\"Response from RAG: {response_rag}\")\n",
    "\n",
    "print(f\"Response from LLM only: {response_llm_only}\")\n",
    "\n",
    "similarity_llm_ideal_9 = calculate_cosine_similarity(response_llm_only, ideal_response)\n",
    "similarity_rag_ideal_9 = calculate_cosine_similarity(response_rag, ideal_response)\n",
    "\n",
    "print(f\"Similarity between LLM response and ideal response: {similarity_llm_ideal_9}\")  \n",
    "print(f\"Similarity between RAG response and ideal response: {similarity_rag_ideal_9}\")"
   ]
  },
  {
   "cell_type": "code",
   "execution_count": 84,
   "metadata": {},
   "outputs": [
    {
     "name": "stdout",
     "output_type": "stream",
     "text": [
      "Ideal Response: The goals of treatment of diabetic retinopathy include improvement in vision, preservation of vision, and reduction in the rate of progression and frequency of retinopathy, vitreoushemorrhage, and macular edema.\n",
      "Response from RAG:  The goals of diabetic retinopathy treatment are to prevent progression of proliferative diabetic retinopathy and subsequent visual loss, with effective modalities including ranibizumab and panretinal photocoagulation. Regular anti-VEGF treatment may improve proliferative changes and minimize the necessity of panretinal photocoagulation, but there is a risk of recurrence and progression with cessation of therapy. Long-term efficacy and safety of anti-VEGF therapy have not been established.</s>\n",
      "Response from LLM only:  The primary goals of diabetic retinopathy (DR) treatment are:\n",
      "\n",
      "1. Prevent or slow down the progression of DR: The main objective of DR treatment is to prevent or slow down the worsening of the condition. This can be achieved through various methods, including controlling blood sugar levels, maintaining normal blood pressure, and reducing the risk of other complications.\n",
      "2. Preserve vision: DR can lead to vision loss or blindness. The goal of treatment is to preserve as much vision as possible. This can be achieved through early detection and timely intervention.\n",
      "3. Prevent or treat complications: DR can lead to complications such as macular edema, retinal detachment, and neovascularization. The goal of treatment is to prevent or treat these complications to preserve vision and prevent further damage to the retina.\n",
      "4. Improve overall health: Effective management of DR involves addressing the underlying causes of the condition, such as poor blood sugar control, high blood pressure, and other health issues. Improving overall health can help prevent or reduce the progression of DR and improve vision outcomes.\n",
      "5. Maintain a stable condition: In some cases, DR may not progress significantly, and the goal of treatment may be to maintain a stable condition and prevent further deterioration. This can be achieved through regular monitoring and appropriate interventions as needed.</s>\n",
      "Similarity between LLM response and ideal response: 0.4196586420003055\n",
      "Similarity between RAG response and ideal response: 0.47972208214451595\n"
     ]
    }
   ],
   "source": [
    "query_text = \"What are the goals of diabetic retinopathy treatment?\"\n",
    "ideal_response = \"The goals of treatment of diabetic retinopathy include improvement in vision, preservation of vision, and reduction in the rate of progression and frequency of retinopathy, vitreoushemorrhage, and macular edema.\"\n",
    "\n",
    "# ask the llm to generate response for the query text\n",
    "\n",
    "response_rag, response_llm_only = query_rag(query_text)\n",
    "\n",
    "print(f\"Ideal Response: {ideal_response}\")\n",
    "\n",
    "print(f\"Response from RAG: {response_rag}\")\n",
    "\n",
    "print(f\"Response from LLM only: {response_llm_only}\")\n",
    "\n",
    "similarity_llm_ideal_10 = calculate_cosine_similarity(response_llm_only, ideal_response)\n",
    "similarity_rag_ideal_10 = calculate_cosine_similarity(response_rag, ideal_response)\n",
    "\n",
    "print(f\"Similarity between LLM response and ideal response: {similarity_llm_ideal_10}\")  \n",
    "print(f\"Similarity between RAG response and ideal response: {similarity_rag_ideal_10}\")"
   ]
  }
 ],
 "metadata": {
  "kernelspec": {
   "display_name": "Python 3",
   "language": "python",
   "name": "python3"
  },
  "language_info": {
   "codemirror_mode": {
    "name": "ipython",
    "version": 3
   },
   "file_extension": ".py",
   "mimetype": "text/x-python",
   "name": "python",
   "nbconvert_exporter": "python",
   "pygments_lexer": "ipython3",
   "version": "3.10.1"
  }
 },
 "nbformat": 4,
 "nbformat_minor": 2
}
